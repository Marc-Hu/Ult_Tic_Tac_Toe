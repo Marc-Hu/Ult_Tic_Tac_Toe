{
 "cells": [
  {
   "cell_type": "markdown",
   "metadata": {
    "collapsed": true
   },
   "source": [
    "# Interaction stratégique"
   ]
  },
  {
   "cell_type": "markdown",
   "metadata": {},
   "source": [
    "## I. Jouer en simultané\n",
    "\n",
    "On considère pour commencer les situations où les agents von jouer leurs actions de manière simultané. \n",
    "Pour la simplicité, les exemples impliquent à chaque fois deux agents, mais les notions sont les mêmes pour plus de deux agents. "
   ]
  },
  {
   "cell_type": "markdown",
   "metadata": {},
   "source": [
    "### 1. Un problème classique: le dilemme du prisonnier"
   ]
  },
  {
   "cell_type": "markdown",
   "metadata": {},
   "source": [
    "Deux joueurs ont été appréhendés après un vol. Il est clair que au moins un des deux a commis ce délit. \n",
    "Ils sont interrogés en parallèle, et disposent des mêmes actions: garder le silence, ou dénoncer l'autre. \n",
    "Ils jouent donc en simultané, sans se concerter. \n",
    "Selon le choix de stratégies des joueurs, les gains sont les suivants: \n",
    "\n",
    "|<span style=\"color:red\">R</span> \\ <span style=\"color:blue\">B </span>| silence | dénoncer |\n",
    "|------|------|------|\n",
    "| **silence**  | (<span style=\"color:red\">20</span>,<span style=\"color:blue\">20</span>)  | (<span style=\"color:red\">0</span>,<span style=\"color:blue\">30</span>) |\n",
    "| **dénoncer**  | (<span style=\"color:red\">30</span>,<span style=\"color:blue\">0</span>)  | (<span style=\"color:red\">10</span>,<span style=\"color:blue\">10</span>)  | \n",
    "\n",
    "\n"
   ]
  },
  {
   "cell_type": "markdown",
   "metadata": {},
   "source": [
    "Analysons du point de vue du joueur  <span style=\"color:red\">R</span> les *meilleures réponses* selon les choix de l'agent <span style=\"color:blue\">B</span>:  \n",
    "* si <span style=\"color:blue\">B</span> garde le silence, il vaut mieux que <span style=\"color:red\">R</span> dénonce l'autre (30>20)\n",
    "* si <span style=\"color:blue\">B</span> dénonce, il vaut mieux que <span style=\"color:red\">R</span> dénonce aussi (10>0)\n",
    "\n",
    "Les meilleures réponses pour <span style=\"color:red\">R</span> sont donc: \n",
    "\n",
    "| meilleure réponse | action de <span style=\"color:blue\">B</span>  |\n",
    "|------|------|------|\n",
    "|<span style=\"color:red\">dénonce</span> | <span style=\"color:blue\">dénonce</span>|\n",
    "|<span style=\"color:red\">dénonce</span> | <span style=\"color:blue\">silence</span>|\n",
    "\n"
   ]
  },
  {
   "cell_type": "markdown",
   "metadata": {},
   "source": [
    "Lorsque, pour un joueur *X*, la table de meilleures réponses indique toujours la même stratégie, on parle de *stratégie dominante* pour le joueur *X*. \n",
    "\n",
    "> La stratégie **dénoncer** est donc dominante pour R et pour B\n",
    "\n",
    "Lorsque les stratégies sont des meilleures réponses mutuelles, on est dans un **équilibre de Nash**. \n",
    "\n",
    "> Ici la stratégie jointe **dénoncer/dénoncer** est un EN\n",
    "\n",
    "Ici, on observe que cet équilibre de Nash est dominé par le résultat (20,20) qui serait atteint si les deux joueurs gardaient le silence. \n",
    "\n",
    "Ce type de dilemme a été largement étudié, et même utilisé dans des jeux (voir la vidéo de Golden Balls, émission de TV anglaise reposant sur une situation proche). \n",
    "\n",
    "On a pour coutume de parler d'action de coopération, ou de trahison dans ce cadre. On peut varier les valeurs dans la matrice. Il y a une valeur C obtenue en cas de coopération mutuelle (cc), une valeur P de piège obtenue en cas de trahison mutuelle (tt), et dans le cas (tc), une valeur T de traitrise et une D de dupe. \n",
    "Pour rester dans une situation de dilemme, il faut que T>C>P>D.  \n"
   ]
  },
  {
   "cell_type": "code",
   "execution_count": 12,
   "metadata": {
    "collapsed": false
   },
   "outputs": [
    {
     "name": "stdout",
     "output_type": "stream",
     "text": [
      "(20, 20)\n"
     ]
    }
   ],
   "source": [
    "def jouerDP(s1,s2):\n",
    "    gains = {'cc':(20,20), 'ct':(0,30), 'tt':(10,10), 'tc': (30,0)}\n",
    "    return gains[str(s1)+str(s2)]\n",
    "\n",
    "print (jouerDP('c','c'))"
   ]
  },
  {
   "cell_type": "markdown",
   "metadata": {},
   "source": [
    "### 2. Dilemme du prisonnier itéré"
   ]
  },
  {
   "cell_type": "markdown",
   "metadata": {},
   "source": [
    "Imaginons à présent que deux joueurs (toujours les mêmes) jouent plusieurs fois d'affilée un dilemme du prisonnier. \n"
   ]
  },
  {
   "cell_type": "markdown",
   "metadata": {},
   "source": [
    "Définir une stratégie pour le dilemme du prisonnier itéré, c'est donc définir quel coup jouer, en fonction de :\n",
    "* les coups que l'on a joués précédemment\n",
    "* les coups que l'autre a joués précédemment\n",
    "\n",
    "Notez que cela inclue également quel premier coup jouer. Les stratégies peuvent également faire intervenir des aspects stochastiques, etc."
   ]
  },
  {
   "cell_type": "markdown",
   "metadata": {},
   "source": [
    "Des stratégies classiques sont les suivantes: \n",
    "* toujours coopérer/trahir\n",
    "* jouer au hasard\n",
    "* alterner trahison et coopération\n",
    "* donnant-donnant (tit-for-tat): commencer par coopérer, puis jouer comme le dernier coup joué par l'adversaire\n",
    "* rancunière: on coppère, et dès que l'autre trahit, on trahit pour toujours"
   ]
  },
  {
   "cell_type": "code",
   "execution_count": 31,
   "metadata": {
    "collapsed": false
   },
   "outputs": [],
   "source": [
    "import random\n",
    "def prochainCoup(mesCoups,adversCoups,nom):\n",
    "    \"\"\"selon la liste de mes coups et des coups de l'autre\n",
    "    je choisis un coup \"\"\"\n",
    "    if nom=='titfortat':\n",
    "        if adversCoups == []:\n",
    "            return 'c'\n",
    "        else:\n",
    "            return adversCoups[-1]\n",
    "    if nom=='random':\n",
    "        return random.choice(['t','c'])\n",
    "    if nom=='alterne':\n",
    "        if mesCoups == []:\n",
    "            return 'c'\n",
    "        elif mesCoups[-1]=='t':\n",
    "            return 'c'\n",
    "        else:\n",
    "            return 't'\n",
    "    if nom=='equipeA':\n",
    "        nbC = 0\n",
    "        nbT = 0\n",
    "        for i in adversCoups:\n",
    "            if i =='c':\n",
    "                nbC += 1\n",
    "            else:\n",
    "                nbT += 1\n",
    "        if nbC == nbT:\n",
    "            return 't'\n",
    "        if nbC > nbT:\n",
    "            return 'c'\n",
    "        else:\n",
    "            return 't'\n",
    "    if nom=='equipeB':\n",
    "        if adversCoups == []:\n",
    "            return 'c'\n",
    "        if adversCoups[-1]=='t':\n",
    "            return 't'\n",
    "        elif len(adversCoups)>=8:\n",
    "            return 't'\n",
    "        return 'c'"
   ]
  },
  {
   "cell_type": "code",
   "execution_count": 16,
   "metadata": {
    "collapsed": false
   },
   "outputs": [
    {
     "name": "stdout",
     "output_type": "stream",
     "text": [
      "c\n"
     ]
    }
   ],
   "source": [
    "print (prochainCoup([],[],'random'))"
   ]
  },
  {
   "cell_type": "code",
   "execution_count": 32,
   "metadata": {
    "collapsed": false
   },
   "outputs": [],
   "source": [
    "nbIterations=10\n",
    "toPlot = {'R':[0], 'B':[0]}\n",
    "coupsJoues = {'R': [], 'B': []}\n",
    "gainsCumules = {'R': 0, 'B': 0}\n",
    "strategie = {'R': 'equipeA', 'B': 'equipeB'}\n",
    "\n",
    "for i in range(nbIterations):\n",
    "    coupR = prochainCoup(coupsJoues['R'],coupsJoues['B'],strategie['R'])\n",
    "    coupB = prochainCoup(coupsJoues['B'],coupsJoues['R'],strategie['B'])\n",
    "    gainR,gainB = jouerDP(coupR,coupB)\n",
    "    gainsCumules['R']+=gainR\n",
    "    gainsCumules['B']+=gainB\n",
    "    coupsJoues['R']+=coupR\n",
    "    coupsJoues['B']+=coupB\n",
    "    #print (\"R joue \",coupR, \", B joue\", coupB, \"--> gains:\", gainR, gainB)\n",
    "    toPlot['R'].append(gainsCumules['R'])\n",
    "    toPlot['B'].append(gainsCumules['B'])\n",
    "\n",
    "    "
   ]
  },
  {
   "cell_type": "code",
   "execution_count": 33,
   "metadata": {
    "collapsed": false
   },
   "outputs": [
    {
     "data": {
      "image/png": "[encoded data removed]",
      "text/plain": [
       "<matplotlib.figure.Figure at 0x10f63af28>"
      ]
     },
     "metadata": {},
     "output_type": "display_data"
    }
   ],
   "source": [
    "%matplotlib inline\n",
    "import numpy as np\n",
    "from matplotlib import pyplot as plt\n",
    "from IPython.core.pylabtools import figsize\n",
    "import networkx as nx\n",
    "import pylab\n",
    "figsize(12.5, 4)\n",
    "#print (toPlot['R'],toPlot['B'])\n",
    "p = np.linspace(0, nbIterations, nbIterations+1)\n",
    "plt.plot(p, toPlot['R'], color='red')\n",
    "plt.plot(p, toPlot['B'], color = 'blue')\n",
    "legende = \"Gains cumulés des joueurs R (\" + strategie['R'] + \") et  B (\" + strategie['B']+\")\"\n",
    "plt.suptitle(legende, y=1.02, fontsize=15)\n",
    "plt.tight_layout()\n"
   ]
  },
  {
   "cell_type": "markdown",
   "metadata": {},
   "source": [
    "> En 1980, Robert Axelrod propose d'organiser des confrontations de stratégies lors d'un tournoi <a>https://en.wikipedia.org/wiki/The_Evolution_of_Cooperation</a>. \n",
    "C'est à cette occasion que la stratégie tit-fot-tat est proposée, par Anatol Rapoport. "
   ]
  },
  {
   "cell_type": "markdown",
   "metadata": {},
   "source": [
    "Comment évaluer la qualité des stratégies proposées? \n",
    "Il faut définir précisément ce que l'on veut dire par *meilleure stratégie*. \n",
    "On peut penser au moins à deux définitions: \n",
    "* une stratégie qui bat toutes (ou le maximum) d'autres stratégies lors des matchs un contre un\n",
    "* une stratégie qui obtient un gain cumulé après tous les matchs le plus élevé possible. "
   ]
  },
  {
   "cell_type": "markdown",
   "metadata": {},
   "source": [
    "> Si l'objectif est simplement de battre les autres stratégies, alors la stratégie *toujours trahir* est la meilleure. Mais si l'objectif est de maximiser le gain sur l'ensemble des rencontres, alors les choses sont moins claires...\n",
    "En pratique, Tit-for-tat s'avère être une excellente stratégie. Pourtant elle est clairement battue par une stratégie de trahison constante, par exemple. Mais elle obtient de très bons scores contre toutes les stratégies. \n",
    "\n"
   ]
  },
  {
   "cell_type": "markdown",
   "metadata": {},
   "source": [
    "Pour aller plus loin sur sur le dilemme du prisonnier, voir par exemple le site et les travaux de B. Beaufils, J.-P. Delahaye et Ph. Mathieu à l'Université de Lille. <a>http://www.lifl.fr/IPD/ipd.html</a>\n"
   ]
  },
  {
   "cell_type": "markdown",
   "metadata": {},
   "source": [
    "## II. Jouer séquentiellement"
   ]
  },
  {
   "cell_type": "markdown",
   "metadata": {},
   "source": [
    "Considérons à présent un deuxième jeu très classique: **le jeu de la poule mouillée** (*the game of chicken*) \n",
    "\n",
    "|<span style=\"color:red\">R</span> \\ <span style=\"color:blue\">B </span>| sauter | rester |\n",
    "|------|------|------|\n",
    "| **sauter**  | (<span style=\"color:red\">5</span>,<span style=\"color:blue\">5</span>)  | (<span style=\"color:red\">2</span>,<span style=\"color:blue\">7</span>) |\n",
    "| **rester**  | (<span style=\"color:red\">7</span>,<span style=\"color:blue\">2</span>)  | (<span style=\"color:red\">0</span>,<span style=\"color:blue\">0</span>)  | "
   ]
  },
  {
   "cell_type": "markdown",
   "metadata": {},
   "source": [
    "Si l'on analyse ce jeu en tenant à présent compte de la séquence, c'est-à-dire du fait que un joueur jour après l'autre, que pouvons-nous en dire? "
   ]
  },
  {
   "cell_type": "markdown",
   "metadata": {},
   "source": [
    "### 1. Induction à rebours et algorithme Minimax\n",
    "\n",
    "On représente le jeu comme un arbre, où chaque joueur joue alternativement à chaque niveau de profondeur. \n",
    "L'analyse peut alors se faire à rebours: en remontant depuis les feuilles, on fait suppose que le joueur, confronté à plusieurs coups possibles, choisira celui qui lui procure *à ce stade-là* le meilleur gain. \n",
    "Au niveau au-dessus on peut itérer ce même raisonnement, suppoant ce que fera le joueur suivant, et ainsi de suite jusqu'à la racine. \n",
    "\n",
    "Dans le cas où le jeu est un jeu à **somme nulle**, un joueur cherche à minimiser le score tandis que l'autre cherche à maximiser le score, on parle donc d'algorithme **minimax**. \n",
    "\n",
    "La valeur retournée par l'algorithme de recherche minimax est la valeur théorique du jeu sous l'hypothèse que les agents jouent rationnellement selon cet algorithme. \n"
   ]
  },
  {
   "cell_type": "markdown",
   "metadata": {},
   "source": [
    "### 3. Elagage Alpha-beta (pruning)\n",
    "\n",
    "Pour éviter une exploration complète de l'arbre de jeu, on peut exploiter le fait que les joueurs sont des MINimisateurs et des MAXimisateurs. On va garder mémoire dans la recherche de deux valeurs, qui vont parfois permettre de couper certaines parties de l'arbre de recherche. \n",
    "\n",
    "* la valeur $\\alpha$ est une borne inf que la recherche maximise. C'est donc la valeur min que peut se garantir le joueur MAX. \n",
    "* la valeur $\\beta$ est une borne sup que la recherche minimise. C'est donc la valeur max que peut se garantir le joueur MIN. \n",
    "\n",
    "Donc le joueur MAX met à jour les valeurs $\\alpha$, et le joueur MIN met à jour les valeur $\\beta$. \n",
    "\n",
    "Il y a donc deux types de coupes dans l'arbre de recherche qui peuvent survenir: \n",
    "* une **coupe $\\alpha$** survient lorsque, pour un noeud MIN, on a trouvé un noeud parmi les fils avec une valeur $\\leq \\alpha$\n",
    "* une **coupe $\\beta$** survient lorsque, pour un noeud MAX, on a trouvé un noeud parmi les fils avec une valeur $\\geq \\beta$\n",
    "\n",
    "Pour bien comprendre le principe de la coupe, il faut raisonner sur deux niveaux (MAX et MIN). Par exemple, pour une coupe $\\alpha$, si on trouve pour un noeud MIN une valeur $\\leq \\alpha$ cela signifie que MIN remontera une valeur $\\leq \\alpha$ (il minimise), quelque soient les valeurs des autres fils explorés. Or (au dessus) MAX a une garantie d'obtenir au moins $\\alpha$. Poursuivre l'exploration est donc superflu. \n"
   ]
  },
  {
   "cell_type": "code",
   "execution_count": 36,
   "metadata": {
    "collapsed": false
   },
   "outputs": [
    {
     "name": "stdout",
     "output_type": "stream",
     "text": [
      "étendu noeud  b\n",
      "étendu noeud  d\n",
      "étendu noeud  h\n",
      "étendu noeud  i\n",
      "étendu noeud  e\n",
      "étendu noeud  j\n",
      "étendu noeud  k\n",
      "étendu noeud  c\n",
      "étendu noeud  f\n",
      "étendu noeud  l\n",
      "étendu noeud  m\n",
      "coupe alpha\n",
      "39\n"
     ]
    }
   ],
   "source": [
    "def alphabeta(state):\n",
    "    \"\"\" implementation de alphabeta, version Russel & Norvig, Chapter 6\n",
    "        \"\"\"\n",
    "    v = maxValue(state,-inf,inf)\n",
    "    return v\n",
    "\n",
    "def maxValue(state,alpha,beta):\n",
    "    if feuille(state): # si feuille on renvoie la valeur\n",
    "        return valeur[state]\n",
    "    v = -inf\n",
    "    for s in successeurs[state]:\n",
    "        print (\"étendu noeud \", s)\n",
    "        v = max(v,minValue(s,alpha,beta))\n",
    "        if v >= beta: # coupe beta, pas la peine d'étendre les autres fils\n",
    "            print (\"coupe beta\")\n",
    "            return v\n",
    "        alpha = max(alpha,v) # mise à jour de alpha par MAX\n",
    "    return v\n",
    "            \n",
    "def minValue(state,alpha,beta):\n",
    "    if feuille(state): # si feuille on renvoie la valeur\n",
    "        return valeur[state]\n",
    "    v = inf\n",
    "    for s in successeurs[state]:\n",
    "        print (\"étendu noeud \", s)\n",
    "        v = min(v,maxValue(s,alpha,beta))\n",
    "        if v <= alpha: # coupe alpha, pas la peine d'étendre les autres fils\n",
    "            print (\"coupe alpha\")\n",
    "            return v\n",
    "        beta = min(beta,v)\n",
    "    return v\n",
    "\n",
    "#--- petit test rapide ---#\n",
    "\n",
    "inf = 1000 # joue le role de infini\n",
    "#successeurs = {'a':['b','c','d'],'b':['e','f','g'],'c':['h','i','j'],'d':['k','l','m']}\n",
    "#valeur = {'e':3, 'f':12, 'g': 8, 'h': 2, 'i':4, 'j':6, 'k':14, 'l':5, 'm':2}\n",
    "successeurs = {'a':['b','c'],'b':['d','e'],'c':['f','g'],'d':['h','i'],'e':['j','k'],'f':['l','m'],'g':['n','o']}\n",
    "#valeur = {'h':4, 'i':9, 'j': 8, 'k': 12, 'l':5, 'm':6, 'n':1, 'o':7}\n",
    "valeur = {'h':12, 'i':49, 'j': 39, 'k': 36, 'l':3, 'm':18, 'n':4, 'o':5}\n",
    "\n",
    "def feuille(state): # les feuilles n'apparaissent pas comme clés dans mon dictionnaire successeurs\n",
    "    return state not in successeurs\n",
    "\n",
    "print (alphabeta('a'))\n",
    "\n",
    "\n"
   ]
  },
  {
   "cell_type": "markdown",
   "metadata": {},
   "source": [
    "### 4. L'exemple du jeu de Hex\n",
    "\n",
    "Le jeu de Hex est un jeu combinatoire dont les règles s'expriment très simplement, mais qui est d'une grande richesse. Les règles sont les suivantes: \n",
    "* chaque joeur peut poser à son tour une tuile n'importe où sur le terrain\n",
    "* le joueur qui parvient à relier ses deux bordures (de même couleur) est le gagnant\n",
    "\n",
    "![Une position gagnante pour le joueur bleu (image Wikipedia)](https://upload.wikimedia.org/wikipedia/commons/3/38/Hex-board-11x11-%282%29.jpg)\n",
    "\n",
    "Ce jeu possède quelques propriétés remarquables:\n",
    "* les matchs nuls ne peuvent pas se produire\n",
    "* tout joueur jouant en premier dispose d'une **stratégie gagnante** (il peut donc gagner quelque soit les coups joués par les autres). \n",
    "\n",
    "Toutefois ces stratégies gagnantes ne sont connues que pour les petites tailles de parties (jusqu'à 7x7 à ma connaissance). \n",
    "\n",
    "\n"
   ]
  },
  {
   "cell_type": "markdown",
   "metadata": {},
   "source": [
    "> Version du 26 Février 2016. \n",
    "En cas de problème d'affichage, ouvrir l'URL dans le <a>nbviewer.jupyter.org/</a>\n",
    "Pour profiter pleinement du notebook et pouvoir tester de manière interactive, vous pouvez installer le notebook de IPython"
   ]
  }
 ],
 "metadata": {
  "anaconda-cloud": {},
  "kernelspec": {
   "display_name": "Python [default]",
   "language": "python",
   "name": "python3"
  },
  "language_info": {
   "codemirror_mode": {
    "name": "ipython",
    "version": 3
   },
   "file_extension": ".py",
   "mimetype": "text/x-python",
   "name": "python",
   "nbconvert_exporter": "python",
   "pygments_lexer": "ipython3",
   "version": "3.5.2"
  }
 },
 "nbformat": 4,
 "nbformat_minor": 0
}
